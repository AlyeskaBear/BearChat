{
 "cells": [
  {
   "cell_type": "code",
   "execution_count": 1,
   "id": "f1508aa3",
   "metadata": {},
   "outputs": [],
   "source": [
    "!pip install pandas scikit-learn nltk gtts requests Keras tensorflow -q"
   ]
  },
  {
   "cell_type": "code",
   "execution_count": 2,
   "id": "70709c39",
   "metadata": {},
   "outputs": [],
   "source": [
    "import os\n",
    "import sys\n",
    "\n",
    "# Define the package names\n",
    "package_names = ['pandas', 'scikit-learn', 'nltk', 'gtts', 'requests', 'keras', 'tensorflow']\n",
    "\n",
    "# Get the paths of the packages\n",
    "package_paths = []\n",
    "for package_name in package_names:\n",
    "    path = !pip show {package_name} | grep Location | cut -d \" \" -f 2\n",
    "    package_paths.append(path[0])\n",
    "\n",
    "# Add the package paths to sys.path\n",
    "for package_path in package_paths:\n",
    "    if package_path not in sys.path:\n",
    "        sys.path.append(package_path)\n",
    "\n",
    "# Print the updated sys.path\n",
    "# print(\"Updated sys.path:\")\n",
    "# for p in sys.path:\n",
    "#    print(p)"
   ]
  },
  {
   "cell_type": "code",
   "execution_count": 3,
   "id": "3d5206ea",
   "metadata": {},
   "outputs": [],
   "source": [
    "import os\n",
    "import pandas as pd\n",
    "import nltk as nltk\n",
    "from nltk import corpus, stem\n",
    "from nltk.corpus import stopwords\n",
    "from nltk.tokenize import word_tokenize\n",
    "from nltk.stem.snowball import SnowballStemmer\n",
    "import tensorflow as tf\n",
    "from tensorflow.keras.preprocessing.text import Tokenizer\n",
    "from tensorflow.keras.preprocessing.sequence import pad_sequences\n",
    "from tensorflow.keras.models import Sequential\n",
    "from tensorflow.keras.layers import Embedding, LSTM, Dense, Dropout\n",
    "from tensorflow.keras.callbacks import EarlyStopping\n",
    "from sklearn.model_selection import train_test_split\n",
    "import keras\n",
    "from keras.layers import Input, LSTM, Dense, Embedding\n",
    "from keras.models import Model\n",
    "import numpy as np\n",
    "from gtts import gTTS\n",
    "from pydub import AudioSegment\n",
    "from IPython.display import Audio"
   ]
  },
  {
   "cell_type": "code",
   "execution_count": 4,
   "id": "ad2f3c83",
   "metadata": {},
   "outputs": [
    {
     "data": {
      "text/plain": [
       "9783"
      ]
     },
     "execution_count": 4,
     "metadata": {},
     "output_type": "execute_result"
    }
   ],
   "source": [
    "# Import the qna_chitchat_friendly data\n",
    "url = \"https://filedn.com/lJpzjOtA91quQEpwdrgCvcy/Business%20Data%20Mining%20and%20Knowledge%20Discovery/RNoteBook/qna_chitchat_friendly.csv\"\n",
    "data = pd.read_csv(url)\n",
    "# size of the dataset\n",
    "len(data)"
   ]
  },
  {
   "cell_type": "code",
   "execution_count": 5,
   "id": "20823001",
   "metadata": {},
   "outputs": [],
   "source": [
    "# Select the \"Question\" column in the text document\n",
    "corpus_Q = data[\"Question\"]\n",
    "\n",
    "# Preprocess the text\n",
    "nltk.download('stopwords', quiet=True)\n",
    "nltk.download('punkt', quiet=True)\n",
    "stop_words = set(stopwords.words('english'))\n",
    "stemmer = stem.SnowballStemmer('english')\n",
    "\n",
    "def preprocess_text(text):\n",
    "    # Convert to lower case\n",
    "    text = text.lower()\n",
    "    # Remove numbers\n",
    "    text = ''.join([i for i in text if not i.isdigit()])\n",
    "    # Remove punctuations\n",
    "    text = ''.join([i for i in text if i.isalpha() or i.isspace()])\n",
    "    # Tokenize the text\n",
    "    tokens = word_tokenize(text)\n",
    "    # Remove stop words\n",
    "    tokens = [i for i in tokens if not i in stop_words]\n",
    "    # Stem the tokens\n",
    "    tokens = [stemmer.stem(i) for i in tokens]\n",
    "    # Join the tokens into a string\n",
    "    text = \" \".join(tokens)\n",
    "    return text\n",
    "\n",
    "corpus_Q = corpus_Q.apply(preprocess_text);"
   ]
  },
  {
   "cell_type": "code",
   "execution_count": 6,
   "id": "6558d752",
   "metadata": {},
   "outputs": [],
   "source": [
    "# Tokenize the questions\n",
    "tokenizer_q = Tokenizer()\n",
    "tokenizer_q.fit_on_texts(corpus_Q)\n",
    "vocab_size = len(tokenizer_q.word_index) + 1\n",
    "\n",
    "# Convert question to sequences of tokens\n",
    "input_sequences = tokenizer_q.texts_to_sequences(corpus_Q)\n",
    "\n",
    "# Pad the sequences to have equal length\n",
    "max_sequence_length = max([len(seq) for seq in input_sequences])\n",
    "input_sequences = pad_sequences(input_sequences, maxlen=max_sequence_length, padding='post')"
   ]
  },
  {
   "cell_type": "code",
   "execution_count": 7,
   "id": "199ec271",
   "metadata": {},
   "outputs": [],
   "source": [
    "# Prepare the answer sequences\n",
    "# Add start and end tokens to the answers\n",
    "y = data[\"Answer\"].apply(lambda x: 'start ' + x + ' end')\n",
    "\n",
    "# Tokenize the answers\n",
    "tokenizer_a = Tokenizer(filters='')\n",
    "tokenizer_a.fit_on_texts(y)\n",
    "num_classes = len(tokenizer_a.word_index) + 1\n",
    "\n",
    "# Convert answers to sequences of tokens\n",
    "y_encoded = tokenizer_a.texts_to_sequences(y)\n",
    "\n",
    "# Pad the sequences to have equal length\n",
    "max_ans_length = max([len(seq) for seq in y_encoded])\n",
    "y_padded = pad_sequences(y_encoded, maxlen=max_ans_length, padding='post')"
   ]
  },
  {
   "cell_type": "code",
   "execution_count": 8,
   "id": "eb6ac367",
   "metadata": {},
   "outputs": [],
   "source": [
    "# split data into train and test sets\n",
    "X_train, X_test, y_train, y_test = train_test_split(input_sequences, y_padded, test_size=0.2, random_state=42)"
   ]
  },
  {
   "cell_type": "code",
   "execution_count": 9,
   "id": "9c3243f7",
   "metadata": {},
   "outputs": [],
   "source": [
    "# create a seq2seq model with encoder and decoder LSTMs\n",
    "embedding_dim = 128\n",
    "lstm_units = 256\n",
    "\n",
    "# Encoder\n",
    "encoder_inputs = Input(shape=(max_sequence_length,))\n",
    "encoder_embedding = Embedding(vocab_size, embedding_dim)(encoder_inputs)\n",
    "encoder_lstm = LSTM(lstm_units, return_state=True)\n",
    "encoder_outputs, state_h, state_c = encoder_lstm(encoder_embedding)\n",
    "encoder_states = [state_h, state_c]\n",
    "\n",
    "encoder_model = Model(encoder_inputs, encoder_states)\n",
    "\n",
    "# Decoder (Training)\n",
    "decoder_inputs = Input(shape=(None,))\n",
    "decoder_embedding1 = Embedding(num_classes, embedding_dim)(decoder_inputs)\n",
    "decoder_lstm = LSTM(lstm_units, return_sequences=True, return_state=True)\n",
    "decoder_outputs, _, _ = decoder_lstm(decoder_embedding1, initial_state=encoder_states)\n",
    "decoder_dense = Dense(num_classes, activation='softmax')\n",
    "decoder_outputs = decoder_dense(decoder_outputs)\n",
    "\n",
    "# Decoder (Inference)\n",
    "decoder_state_input_h = Input(shape=(lstm_units,))\n",
    "decoder_state_input_c = Input(shape=(lstm_units,))\n",
    "decoder_states_inputs = [decoder_state_input_h, decoder_state_input_c]\n",
    "\n",
    "decoder_inputs2 = Input(shape=(None,))\n",
    "decoder_embedding2 = Embedding(num_classes, embedding_dim)(decoder_inputs2)\n",
    "decoder_outputs2, state_h2, state_c2 = decoder_lstm(decoder_embedding2, initial_state=decoder_states_inputs)\n",
    "decoder_states2 = [state_h2, state_c2]\n",
    "decoder_outputs2 = decoder_dense(decoder_outputs2)\n",
    "\n",
    "decoder_model = Model([decoder_inputs2] + decoder_states_inputs, [decoder_outputs2] + decoder_states2)\n",
    "\n",
    "# Define the model\n",
    "model = Model([encoder_inputs, decoder_inputs], decoder_outputs)\n",
    "\n",
    "# Compile the model\n",
    "model.compile(optimizer='adam', loss='sparse_categorical_crossentropy', metrics=['accuracy'])\n",
    "\n",
    "# Prepare the decoder input data with the same length as the output data, but shifted one timestep forward\n",
    "decoder_input_data = np.zeros_like(y_padded)\n",
    "decoder_input_data[:, 1:] = y_padded[:, :-1]"
   ]
  },
  {
   "cell_type": "code",
   "execution_count": 10,
   "id": "e06c62e3",
   "metadata": {},
   "outputs": [
    {
     "name": "stdout",
     "output_type": "stream",
     "text": [
      "Epoch 1/50\n",
      "111/111 [==============================] - 19s 147ms/step - loss: 1.8351 - accuracy: 0.7336 - val_loss: 1.3613 - val_accuracy: 0.7547\n",
      "Epoch 2/50\n",
      "111/111 [==============================] - 18s 159ms/step - loss: 1.2705 - accuracy: 0.7571 - val_loss: 1.1945 - val_accuracy: 0.7639\n",
      "Epoch 3/50\n",
      "111/111 [==============================] - 16s 147ms/step - loss: 1.1055 - accuracy: 0.7631 - val_loss: 1.0646 - val_accuracy: 0.7682\n",
      "Epoch 4/50\n",
      "111/111 [==============================] - 16s 142ms/step - loss: 0.9919 - accuracy: 0.7700 - val_loss: 0.9900 - val_accuracy: 0.7744\n",
      "Epoch 5/50\n",
      "111/111 [==============================] - 16s 144ms/step - loss: 0.9169 - accuracy: 0.7763 - val_loss: 0.9459 - val_accuracy: 0.7776\n",
      "Epoch 6/50\n",
      "111/111 [==============================] - 16s 147ms/step - loss: 0.8581 - accuracy: 0.7867 - val_loss: 0.8875 - val_accuracy: 0.7864\n",
      "Epoch 7/50\n",
      "111/111 [==============================] - 16s 148ms/step - loss: 0.8026 - accuracy: 0.7963 - val_loss: 0.9038 - val_accuracy: 0.7898\n",
      "Epoch 8/50\n",
      "111/111 [==============================] - 15s 139ms/step - loss: 0.7354 - accuracy: 0.8128 - val_loss: 0.7875 - val_accuracy: 0.8053\n",
      "Epoch 9/50\n",
      "111/111 [==============================] - 17s 150ms/step - loss: 0.6690 - accuracy: 0.8278 - val_loss: 0.7310 - val_accuracy: 0.8187\n",
      "Epoch 10/50\n",
      "111/111 [==============================] - 17s 153ms/step - loss: 0.6071 - accuracy: 0.8428 - val_loss: 0.6940 - val_accuracy: 0.8290\n",
      "Epoch 11/50\n",
      "111/111 [==============================] - 19s 172ms/step - loss: 0.5533 - accuracy: 0.8555 - val_loss: 0.6502 - val_accuracy: 0.8426\n",
      "Epoch 12/50\n",
      "111/111 [==============================] - 20s 178ms/step - loss: 0.4917 - accuracy: 0.8728 - val_loss: 0.5975 - val_accuracy: 0.8568\n",
      "Epoch 13/50\n",
      "111/111 [==============================] - 18s 164ms/step - loss: 0.4409 - accuracy: 0.8857 - val_loss: 0.6154 - val_accuracy: 0.8500\n",
      "Epoch 14/50\n",
      "111/111 [==============================] - 19s 168ms/step - loss: 0.4013 - accuracy: 0.8956 - val_loss: 0.5298 - val_accuracy: 0.8779\n",
      "Epoch 15/50\n",
      "111/111 [==============================] - 22s 203ms/step - loss: 0.3461 - accuracy: 0.9120 - val_loss: 0.5087 - val_accuracy: 0.8828\n",
      "Epoch 16/50\n",
      "111/111 [==============================] - 23s 205ms/step - loss: 0.3068 - accuracy: 0.9228 - val_loss: 0.4935 - val_accuracy: 0.8845\n",
      "Epoch 17/50\n",
      "111/111 [==============================] - 19s 167ms/step - loss: 0.2764 - accuracy: 0.9308 - val_loss: 0.4700 - val_accuracy: 0.8894\n",
      "Epoch 18/50\n",
      "111/111 [==============================] - 17s 156ms/step - loss: 0.2853 - accuracy: 0.9258 - val_loss: 0.4587 - val_accuracy: 0.8924\n",
      "Epoch 19/50\n",
      "111/111 [==============================] - 17s 157ms/step - loss: 0.2368 - accuracy: 0.9397 - val_loss: 0.4469 - val_accuracy: 0.9028\n",
      "Epoch 20/50\n",
      "111/111 [==============================] - 17s 157ms/step - loss: 0.2092 - accuracy: 0.9477 - val_loss: 0.4536 - val_accuracy: 0.8992\n",
      "Epoch 21/50\n",
      "111/111 [==============================] - 18s 165ms/step - loss: 0.2074 - accuracy: 0.9468 - val_loss: 0.4578 - val_accuracy: 0.8940\n",
      "Epoch 22/50\n",
      "111/111 [==============================] - 17s 155ms/step - loss: 0.1964 - accuracy: 0.9490 - val_loss: 0.4181 - val_accuracy: 0.9040\n",
      "Epoch 23/50\n",
      "111/111 [==============================] - 17s 153ms/step - loss: 0.1735 - accuracy: 0.9557 - val_loss: 0.4205 - val_accuracy: 0.9065\n",
      "Epoch 24/50\n",
      "111/111 [==============================] - 16s 147ms/step - loss: 0.1577 - accuracy: 0.9591 - val_loss: 0.4252 - val_accuracy: 0.9036\n",
      "Epoch 25/50\n",
      "111/111 [==============================] - 16s 145ms/step - loss: 0.1500 - accuracy: 0.9604 - val_loss: 0.4174 - val_accuracy: 0.9077\n",
      "Epoch 26/50\n",
      "111/111 [==============================] - 17s 149ms/step - loss: 0.1343 - accuracy: 0.9652 - val_loss: 0.4172 - val_accuracy: 0.9100\n",
      "Epoch 27/50\n",
      "111/111 [==============================] - 17s 154ms/step - loss: 0.1277 - accuracy: 0.9663 - val_loss: 0.4205 - val_accuracy: 0.9105\n",
      "Epoch 28/50\n",
      "111/111 [==============================] - 17s 151ms/step - loss: 0.1155 - accuracy: 0.9694 - val_loss: 0.4169 - val_accuracy: 0.9088\n",
      "Epoch 29/50\n",
      "111/111 [==============================] - 17s 154ms/step - loss: 0.1118 - accuracy: 0.9702 - val_loss: 0.4134 - val_accuracy: 0.9106\n",
      "Epoch 30/50\n",
      "111/111 [==============================] - 16s 145ms/step - loss: 0.1042 - accuracy: 0.9719 - val_loss: 0.4369 - val_accuracy: 0.9106\n",
      "Epoch 31/50\n",
      "111/111 [==============================] - 18s 166ms/step - loss: 0.0988 - accuracy: 0.9738 - val_loss: 0.4283 - val_accuracy: 0.9077\n",
      "Epoch 32/50\n",
      "111/111 [==============================] - 16s 143ms/step - loss: 0.0936 - accuracy: 0.9745 - val_loss: 0.4106 - val_accuracy: 0.9150\n",
      "Epoch 33/50\n",
      "111/111 [==============================] - 16s 145ms/step - loss: 0.0955 - accuracy: 0.9736 - val_loss: 0.4359 - val_accuracy: 0.9084\n",
      "Epoch 34/50\n",
      "111/111 [==============================] - 16s 144ms/step - loss: 0.0986 - accuracy: 0.9732 - val_loss: 0.4211 - val_accuracy: 0.9117\n",
      "Epoch 35/50\n",
      "111/111 [==============================] - 16s 145ms/step - loss: 0.0856 - accuracy: 0.9758 - val_loss: 0.4164 - val_accuracy: 0.9144\n"
     ]
    }
   ],
   "source": [
    "# Train the model\n",
    "early_stopping = EarlyStopping(monitor='val_loss', patience=3, restore_best_weights=True)\n",
    "\n",
    "history = model.fit([X_train, decoder_input_data], np.expand_dims(y_train, -1), epochs=50, batch_size=64, validation_split=0.1, callbacks=[early_stopping])"
   ]
  },
  {
   "cell_type": "markdown",
   "id": "83c86c41",
   "metadata": {},
   "source": [
    "Observe the improvement of the model's loss and accuracy on the training data from iteration to iteration."
   ]
  },
  {
   "cell_type": "code",
   "execution_count": 11,
   "id": "e4b8e2c2",
   "metadata": {},
   "outputs": [
    {
     "name": "stdout",
     "output_type": "stream",
     "text": [
      "Test set accuracy: 0.18\n"
     ]
    }
   ],
   "source": [
    "# Prepare decoder_input_data_test\n",
    "decoder_input_data_test = np.zeros((len(y_test), max_sequence_length), dtype='int32')\n",
    "for i, target_sequence in enumerate(y_test):\n",
    "    for t, token in enumerate(target_sequence):\n",
    "        if t < max_sequence_length - 1:\n",
    "            decoder_input_data_test[i, t] = token\n",
    "\n",
    "# Reshape y_test\n",
    "y_test = pad_sequences(y_test, maxlen=max_sequence_length, padding='post')\n",
    "\n",
    "loss, accuracy = model.evaluate([X_test, decoder_input_data_test], np.expand_dims(y_test, -1), verbose = 0)\n",
    "print(f\"Test set accuracy: {accuracy:.2f}\")"
   ]
  },
  {
   "cell_type": "markdown",
   "id": "c0a6aad4",
   "metadata": {},
   "source": [
    "The poor performance of the model on the test data illustrates the problem of model overfitting, which is a common issue with network-based models, especially when the size of the training dataset is small, as in the case of this study."
   ]
  },
  {
   "cell_type": "code",
   "execution_count": 12,
   "id": "3b315a4b",
   "metadata": {},
   "outputs": [],
   "source": [
    "def predict_answer_seq2seq(question, play_audio=True):\n",
    "    def decode_sequence(input_seq):\n",
    "        states_value = encoder_model.predict(input_seq, verbose = 0)\n",
    "\n",
    "        target_seq = np.zeros((1, 1))\n",
    "        target_seq[0, 0] = tokenizer_a.word_index['start']\n",
    "\n",
    "        stop_condition = False\n",
    "        decoded_sentence = []\n",
    "        while not stop_condition:\n",
    "            output_tokens, h, c = decoder_model.predict([target_seq] + states_value, verbose = 0)\n",
    "\n",
    "            sampled_token_index = np.argmax(output_tokens[0, -1, :])\n",
    "            sampled_word = tokenizer_a.index_word.get(sampled_token_index, '')\n",
    "\n",
    "            if sampled_word == 'end' or len(decoded_sentence) > max_sequence_length:\n",
    "                stop_condition = True\n",
    "            else:\n",
    "                decoded_sentence.append(sampled_word)\n",
    "\n",
    "            target_seq = np.zeros((1, 1))\n",
    "            target_seq[0, 0] = sampled_token_index\n",
    "\n",
    "            states_value = [h, c]\n",
    "\n",
    "        return \" \".join(decoded_sentence[1:])\n",
    "\n",
    "    input_question = preprocess_text(question)\n",
    "    input_seq = tokenizer_q.texts_to_sequences([input_question])\n",
    "    input_seq = pad_sequences(input_seq, maxlen=max_sequence_length, padding='post')\n",
    "\n",
    "    answer = decode_sequence(input_seq)\n",
    "\n",
    "    # Synthesize speech\n",
    "    tts = gTTS(answer)\n",
    "    tts.save('answer.wav')\n",
    "\n",
    "    # Play audio using ffplay\n",
    "    if play_audio:\n",
    "        os.system('ffplay -nodisp -autoexit answer.wav')\n",
    "\n",
    "    return answer"
   ]
  },
  {
   "cell_type": "code",
   "execution_count": 13,
   "id": "599a01a3",
   "metadata": {},
   "outputs": [
    {
     "name": "stdout",
     "output_type": "stream",
     "text": [
      "oh, i don't have have name.\n"
     ]
    }
   ],
   "source": [
    "# Example usage:\n",
    "question = \"What is your name?\"\n",
    "answer = predict_answer_seq2seq(question)\n",
    "print(f\"{answer}\")"
   ]
  },
  {
   "cell_type": "code",
   "execution_count": 14,
   "id": "3b3376d2",
   "metadata": {},
   "outputs": [
    {
     "name": "stdout",
     "output_type": "stream",
     "text": [
      "i'm digital, bot chat   \n"
     ]
    }
   ],
   "source": [
    "# Example usage:\n",
    "question = \"where are you from?\"\n",
    "answer = predict_answer_seq2seq(question)\n",
    "print(f\"{answer}\")"
   ]
  },
  {
   "cell_type": "code",
   "execution_count": 15,
   "id": "88170193",
   "metadata": {},
   "outputs": [
    {
     "name": "stdout",
     "output_type": "stream",
     "text": [
      "hello! think to you, follow lost \n"
     ]
    }
   ],
   "source": [
    "# Example usage:\n",
    "question = \"how old are you?\"\n",
    "answer = predict_answer_seq2seq(question)\n",
    "print(f\"{answer}\")"
   ]
  },
  {
   "cell_type": "code",
   "execution_count": 16,
   "id": "d49fed16",
   "metadata": {},
   "outputs": [
    {
     "name": "stdout",
     "output_type": "stream",
     "text": [
      "thanks! have pretty cool yourself.\n"
     ]
    }
   ],
   "source": [
    "# Example usage:\n",
    "question = \"I really like you!\"\n",
    "answer = predict_answer_seq2seq(question)\n",
    "print(f\"{answer}\")"
   ]
  },
  {
   "cell_type": "code",
   "execution_count": 17,
   "id": "5e085dff",
   "metadata": {
    "scrolled": true
   },
   "outputs": [
    {
     "name": "stdout",
     "output_type": "stream",
     "text": [
      "i think you should follow your heart.\n"
     ]
    }
   ],
   "source": [
    "# Example usage:\n",
    "question = \"where should we go for dinner?\"\n",
    "answer = predict_answer_seq2seq(question)\n",
    "print(f\"{answer}\")"
   ]
  },
  {
   "cell_type": "code",
   "execution_count": 18,
   "id": "9309607d",
   "metadata": {},
   "outputs": [
    {
     "name": "stdout",
     "output_type": "stream",
     "text": [
      "i'm having a hard time imagining how\n"
     ]
    }
   ],
   "source": [
    "# Example usage:\n",
    "question = \"who will win 2024 presidental election?\"\n",
    "answer = predict_answer_seq2seq(question)\n",
    "print(f\"{answer}\")"
   ]
  },
  {
   "cell_type": "code",
   "execution_count": 19,
   "id": "9d706240",
   "metadata": {},
   "outputs": [
    {
     "name": "stdout",
     "output_type": "stream",
     "text": [
      "i'm a bot i'm   \n"
     ]
    }
   ],
   "source": [
    "# Example usage:\n",
    "question = \"why Maine the best state in the US?\"\n",
    "answer = predict_answer_seq2seq(question)\n",
    "print(f\"{answer}\")"
   ]
  },
  {
   "cell_type": "code",
   "execution_count": 20,
   "id": "f8aa111b",
   "metadata": {},
   "outputs": [
    {
     "name": "stdout",
     "output_type": "stream",
     "text": [
      "the world of tech committed to home\n"
     ]
    }
   ],
   "source": [
    "# Example usage:\n",
    "question = \"will AI change the world?\"\n",
    "answer = predict_answer_seq2seq(question)\n",
    "print(f\"{answer}\")"
   ]
  }
 ],
 "metadata": {
  "kernelspec": {
   "display_name": "Python 3 (ipykernel)",
   "language": "python",
   "name": "python3"
  },
  "language_info": {
   "codemirror_mode": {
    "name": "ipython",
    "version": 3
   },
   "file_extension": ".py",
   "mimetype": "text/x-python",
   "name": "python",
   "nbconvert_exporter": "python",
   "pygments_lexer": "ipython3",
   "version": "3.9.13"
  }
 },
 "nbformat": 4,
 "nbformat_minor": 5
}
